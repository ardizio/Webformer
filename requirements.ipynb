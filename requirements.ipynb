{
 "cells": [
  {
   "cell_type": "code",
   "execution_count": 2,
   "metadata": {},
   "outputs": [
    {
     "name": "stdout",
     "output_type": "stream",
     "text": [
      "datasets version: 2.15.0\n",
      "numpy version: 1.26.2\n",
      "pandas version: 2.0.3\n",
      "pytorch version: 2.1.1+cu121\n",
      "requests version: 2.31.0\n",
      "scipy version: 1.11.1\n",
      "tqdm version: 4.66.1\n",
      "transformers version: 4.36.0.dev0\n"
     ]
    }
   ],
   "source": [
    "import datasets\n",
    "import numpy\n",
    "import pandas\n",
    "import torch\n",
    "#import pytrec_eval\n",
    "import requests\n",
    "import scipy\n",
    "import tqdm\n",
    "import transformers\n",
    "\n",
    "print(f'datasets version: {datasets.__version__}')\n",
    "print(f'numpy version: {numpy.__version__}')\n",
    "print(f'pandas version: {pandas.__version__}')\n",
    "print(f'pytorch version: {torch.__version__}')\n",
    "#print(f'pytrec-eval version: {pytrec_eval.__version__}')\n",
    "print(f'requests version: {requests.__version__}')\n",
    "print(f'scipy version: {scipy.__version__}')\n",
    "print(f'tqdm version: {tqdm.__version__}')\n",
    "print(f'transformers version: {transformers.__version__}')"
   ]
  }
 ],
 "metadata": {
  "kernelspec": {
   "display_name": "Python 3",
   "language": "python",
   "name": "python3"
  },
  "language_info": {
   "codemirror_mode": {
    "name": "ipython",
    "version": 3
   },
   "file_extension": ".py",
   "mimetype": "text/x-python",
   "name": "python",
   "nbconvert_exporter": "python",
   "pygments_lexer": "ipython3",
   "version": "3.11.6"
  }
 },
 "nbformat": 4,
 "nbformat_minor": 2
}

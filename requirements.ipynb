{
 "cells": [
  {
   "cell_type": "markdown",
   "metadata": {},
   "source": [
    "# INITIAL PAPER REQUIREMENTS\n",
    "\n",
    "datasets==1.1.3\n",
    "numpy==1.19.2\n",
    "pandas==1.1.5\n",
    "pytorch>=1.6\n",
    "pytrec-eval==0.5\n",
    "requests==2.25.1\n",
    "scipy==1.5.4\n",
    "tqdm\n",
    "transformers==4.2.0"
   ]
  },
  {
   "cell_type": "code",
   "execution_count": null,
   "metadata": {},
   "outputs": [],
   "source": [
    "ppr_v_datasets=\"1.1.3\"\n",
    "ppr_v_numpy=\"1.19.2\"\n",
    "ppr_v_pandas=\"1.1.5\"\n",
    "ppr_v_pytorch=\"1.6\"\n",
    "ppr_v_pytrec_eval=\"0.5\"\n",
    "ppr_v_requests=\"2.25.1\"\n",
    "ppr_v_scipy=\"1.5.4\"\n",
    "ppr_v_transformers=\"4.2.0\""
   ]
  },
  {
   "cell_type": "code",
   "execution_count": 2,
   "metadata": {},
   "outputs": [
    {
     "name": "stdout",
     "output_type": "stream",
     "text": [
      "datasets version: 2.15.0\n",
      "numpy version: 1.26.2\n",
      "pandas version: 2.0.3\n",
      "pytorch version: 2.1.1+cu121\n",
      "requests version: 2.31.0\n",
      "scipy version: 1.11.1\n",
      "tqdm version: 4.66.1\n",
      "transformers version: 4.36.0.dev0\n"
     ]
    }
   ],
   "source": [
    "import datasets\n",
    "import numpy\n",
    "import pandas\n",
    "import torch\n",
    "#import pytrec_eval\n",
    "import requests\n",
    "import scipy\n",
    "import tqdm\n",
    "import transformers\n",
    "\n",
    "print(f'datasets version: {datasets.__version__}')\n",
    "print(f'numpy version: {numpy.__version__}')\n",
    "print(f'pandas version: {pandas.__version__}')\n",
    "print(f'pytorch version: {torch.__version__}')\n",
    "#print(f'pytrec-eval version: {pytrec_eval.__version__}')\n",
    "print(f'requests version: {requests.__version__}')\n",
    "print(f'scipy version: {scipy.__version__}')\n",
    "print(f'tqdm version: {tqdm.__version__}')\n",
    "print(f'transformers version: {transformers.__version__}')"
   ]
  }
 ],
 "metadata": {
  "kernelspec": {
   "display_name": "Python 3",
   "language": "python",
   "name": "python3"
  },
  "language_info": {
   "codemirror_mode": {
    "name": "ipython",
    "version": 3
   },
   "file_extension": ".py",
   "mimetype": "text/x-python",
   "name": "python",
   "nbconvert_exporter": "python",
   "pygments_lexer": "ipython3",
   "version": "3.11.6"
  }
 },
 "nbformat": 4,
 "nbformat_minor": 2
}

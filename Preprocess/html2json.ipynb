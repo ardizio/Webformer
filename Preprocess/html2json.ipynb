{
 "cells": [
  {
   "cell_type": "markdown",
   "metadata": {},
   "source": [
    "## Imports"
   ]
  },
  {
   "cell_type": "code",
   "execution_count": 1,
   "metadata": {},
   "outputs": [],
   "source": [
    "import re\n",
    "import json\n",
    "from tqdm import tqdm\n",
    "from bs4 import BeautifulSoup\n",
    "import bs4\n",
    "import os\n",
    "import sys"
   ]
  },
  {
   "cell_type": "code",
   "execution_count": null,
   "metadata": {},
   "outputs": [],
   "source": [
    "# Python has a recursion limit of 3K.\n",
    "# We raise it up to 10K\n",
    "sys.setrecursionlimit(10000)"
   ]
  },
  {
   "cell_type": "code",
   "execution_count": null,
   "metadata": {},
   "outputs": [],
   "source": [
    "DIR_RAW_DATA_PATH = './data/endata/'\n",
    "DIR_CLEAN_DATA = './data/endata_new_clean/'\n",
    "JSON_TRAIN_CORPUS = './data/wiki_html_all.json'"
   ]
  },
  {
   "cell_type": "markdown",
   "metadata": {},
   "source": [
    "# MAIN"
   ]
  },
  {
   "cell_type": "code",
   "execution_count": null,
   "metadata": {},
   "outputs": [],
   "source": [
    "with open(JSON_TRAIN_CORPUS,'w')as g:\n",
    "    for root, dirs, files in os.walk(DIR_RAW_DATA_PATH):\n",
    "        #foreach dir in endata\n",
    "        for dir in tqdm(dirs):\n",
    "            sub_DIR_RAW_DATA_PATH = os.path.join(root,dir)\n",
    "            for sub_root,sub_dirs,sub_files in os.walk(sub_DIR_RAW_DATA_PATH):\n",
    "                # foeach file in dir\n",
    "                for f in tqdm(sub_files):\n",
    "                    #index = f.split('.')[0]\n",
    "                    path = os.path.join(sub_root,f)\n",
    "                    clean_path = DIR_CLEAN_DATA+'_clean.html'\n",
    "                    cleaner = HTMLCleaner(path,clean_path)\n",
    "                    cleaner.clean_html()\n",
    "                    #cleaner.clean_tree()\n",
    "                    storer = HTMLStorer(input_file=None,html=cleaner.line)\n",
    "                    g.write(json.dumps(storer.data,ensure_ascii=False)+'\\n')\n"
   ]
  }
 ],
 "metadata": {
  "kernelspec": {
   "display_name": "Python 3",
   "language": "python",
   "name": "python3"
  },
  "language_info": {
   "codemirror_mode": {
    "name": "ipython",
    "version": 3
   },
   "file_extension": ".py",
   "mimetype": "text/x-python",
   "name": "python",
   "nbconvert_exporter": "python",
   "pygments_lexer": "ipython3",
   "version": "3.11.6"
  }
 },
 "nbformat": 4,
 "nbformat_minor": 2
}
